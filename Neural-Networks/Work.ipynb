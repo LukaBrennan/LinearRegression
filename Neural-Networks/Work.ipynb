{
 "cells": [
  {
   "cell_type": "markdown",
   "metadata": {},
   "source": [
    "# This is some sample code to get a better understanding of how to use pytorch."
   ]
  },
  {
   "cell_type": "code",
   "execution_count": null,
   "metadata": {},
   "outputs": [
    {
     "name": "stdout",
     "output_type": "stream",
     "text": [
      "PyTorch version: 2.6.0+cpu\n",
      "GPU available: False\n",
      "Epoch [1/10], Loss: 0.8331\n",
      "Epoch [2/10], Loss: 0.7467\n",
      "Epoch [3/10], Loss: 0.6659\n",
      "Epoch [4/10], Loss: 0.5899\n",
      "Epoch [5/10], Loss: 0.5192\n",
      "Epoch [6/10], Loss: 0.4530\n",
      "Epoch [7/10], Loss: 0.3918\n",
      "Epoch [8/10], Loss: 0.3348\n",
      "Epoch [9/10], Loss: 0.2820\n",
      "Epoch [10/10], Loss: 0.2337\n",
      "Predictions for test data:\n",
      "tensor([[0.2070],\n",
      "        [0.0248],\n",
      "        [0.0780],\n",
      "        [0.0696],\n",
      "        [0.2772]], grad_fn=<AddmmBackward0>)\n"
     ]
    }
   ],
   "source": [
    "# Import necessary libraries\n",
    "import torch\n",
    "import torch.nn as nn\n",
    "import torch.optim as optim\n",
    "\n",
    "# Check if PyTorch is installed correctly and if GPU is available\n",
    "print(f\"PyTorch version: {torch.__version__}\")\n",
    "print(f\"GPU available: {torch.cuda.is_available()}\")\n",
    "\n",
    "# Define a simple neural network\n",
    "class SimpleModel(nn.Module):\n",
    "    def __init__(self):\n",
    "        super(SimpleModel, self).__init__()\n",
    "        self.fc1 = nn.Linear(5, 10)  # Input layer (5 features) to hidden layer (10 neurons)\n",
    "        self.fc2 = nn.Linear(10, 1)  # Hidden layer (10 neurons) to output layer (1 neuron)\n",
    "        self.relu = nn.ReLU()        # Activation function\n",
    "\n",
    "    def forward(self, x):\n",
    "        x = self.relu(self.fc1(x))  # Apply ReLU to hidden layer\n",
    "        x = self.fc2(x)             # Output layer\n",
    "        return x\n",
    "\n",
    "# Instantiate the model\n",
    "model = SimpleModel()\n",
    "\n",
    "# Define loss function and optimizer\n",
    "criterion = nn.MSELoss()  # Mean Squared Error Loss\n",
    "optimizer = optim.Adam(model.parameters(), lr=0.01)  # Adam optimizer\n",
    "\n",
    "# Create some dummy data\n",
    "X = torch.rand(100, 5)  # 100 samples, 5 features\n",
    "y = torch.rand(100, 1)  # 100 target values\n",
    "\n",
    "# Training loop\n",
    "num_epochs = 10\n",
    "for epoch in range(num_epochs):\n",
    "    # Forward pass: Compute predicted y\n",
    "    outputs = model(X)\n",
    "    loss = criterion(outputs, y)\n",
    "\n",
    "    # Backward pass: Compute gradients\n",
    "    optimizer.zero_grad()  # Clear gradients\n",
    "    loss.backward()        # Compute gradients\n",
    "    optimizer.step()       # Update weights\n",
    "\n",
    "    # Print progress\n",
    "    print(f'Epoch [{epoch+1}/{num_epochs}], Loss: {loss.item():.4f}')\n",
    "\n",
    "# Test the model with new data\n",
    "test_data = torch.rand(5, 5)  # 5 new samples, 5 features\n",
    "predictions = model(test_data)\n",
    "print(\"Predictions for test data:\")\n",
    "//print(predictions)"
   ]
  },
  {
   "cell_type": "code",
   "execution_count": null,
   "metadata": {},
   "outputs": [
    {
     "name": "stdout",
     "output_type": "stream",
     "text": [
      "False\n"
     ]
    }
   ],
   "source": [
    "# Checking to see if my laptops GPU is available\n",
    "print(torch.cuda.is_available())"
   ]
  }
 ],
 "metadata": {
  "kernelspec": {
   "display_name": "Python 3",
   "language": "python",
   "name": "python3"
  },
  "language_info": {
   "codemirror_mode": {
    "name": "ipython",
    "version": 3
   },
   "file_extension": ".py",
   "mimetype": "text/x-python",
   "name": "python",
   "nbconvert_exporter": "python",
   "pygments_lexer": "ipython3",
   "version": "3.11.9"
  }
 },
 "nbformat": 4,
 "nbformat_minor": 2
}
