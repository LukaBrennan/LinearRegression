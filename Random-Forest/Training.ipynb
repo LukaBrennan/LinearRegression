{
 "cells": [
  {
   "cell_type": "markdown",
   "metadata": {},
   "source": [
    "# What I'm trying to do. \n",
    "- In this code I am trying to make better predications for the titanic dataset that I have, in hopes that it will perform  better than my decision tree.  \n",
    "# Imports\n",
    "- pandas: pandas are used to load and manipulate the dataset.\n",
    "- sklearn import tree: This gives the plot_tree method which is used to visualize a decision tree.\n",
    "- sklearn.ensemble import RandomForestClassifier: This implements the random forest algorithm, allowing me to combine multiple decision trees together for better accuracy.\n",
    "# What is going on\n",
    "- Male and Female are converted to numerical values. with 0 = male and 1 = female. \n",
    "- In the dataset, there is missing values for the Age field, because of this I have it set so that where the missing values for Age are filled it with a median, to ensure that no data is missing. \n",
    "- Setting up a variable named features, this will use pclass, Sex and Age for predictions. \n",
    "- we set x as features with y being the target, which is whether they have survived or not.  \n",
    "- For working the Random Forest I use RandomForestClassifier which uses N-estimators, this is the number of decision trees that are in the forest. max_depth, this manages how far down the decision trees will go, having a limit on it makes the decision tree more readable and helps to prevent overfitting. \n",
    "# Problems encountered\n",
    "- For displaying the graph, as each image is different (each decision tree is a different decision tree taken from the Random Forest) there is a chance that the information being displayed could be hard to read or overlap with each other. I have tried a few different things to prevent this, such as reducing the max_depth however these problems still persist. "
   ]
  },
  {
   "cell_type": "code",
   "execution_count": null,
   "metadata": {},
   "outputs": [],
   "source": [
    "import pandas as pd\n",
    "from sklearn import tree\n",
    "from sklearn.ensemble import RandomForestClassifier\n",
    "import matplotlib.pyplot as plt\n",
    "\n",
    "df = pd.read_csv(\"train.csv\")\n",
    "\n",
    "d = {'male': 0, 'female': 1}\n",
    "df['Sex'] = df['Sex'].map(d)\n",
    "df['Age'].fillna(df['Age'].median(), inplace=True)\n",
    "\n",
    "features = ['Pclass', 'Sex', 'Age']\n",
    "X = df[features]\n",
    "y = df['Survived']\n",
    "\n",
    "rforest = RandomForestClassifier(n_estimators=15, max_depth=4)\n",
    "rforest.fit(X, y)\n",
    "\n",
    "estimator = rforest.estimators_[0]\n",
    "plt.figure(figsize=(20,15))\n",
    "tree.plot_tree(\n",
    "    estimator,\n",
    "    feature_names=features,\n",
    "    class_names=['Not Survived', 'Survived'],\n",
    "    filled=True,\n",
    "    fontsize=10)\n",
    "\n",
    "plt.title(\"A Single Decision Tree from the Random Forest\")\n",
    "plt.tight_layout()\n",
    "plt.show()"
   ]
  }
 ],
 "metadata": {
  "kernelspec": {
   "display_name": "Python 3",
   "language": "python",
   "name": "python3"
  },
  "language_info": {
   "codemirror_mode": {
    "name": "ipython",
    "version": 3
   },
   "file_extension": ".py",
   "mimetype": "text/x-python",
   "name": "python",
   "nbconvert_exporter": "python",
   "pygments_lexer": "ipython3",
   "version": "3.11.9"
  }
 },
 "nbformat": 4,
 "nbformat_minor": 2
}
